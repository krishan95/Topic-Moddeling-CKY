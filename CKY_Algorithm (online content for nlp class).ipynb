{
 "cells": [
  {
   "cell_type": "markdown",
   "metadata": {},
   "source": [
    "# # Topic Modelling -  CKY ALgorithm\n",
    "         (ONLIne CONTENT FOR NLP CS-613)\n",
    "                                                             # KRISHAN KANT CHUGH\n",
    "                                                             # 18210042\n",
    "                                                             # M.TECH CSE 1st Year\n",
    "      \n",
    "->For CKY to work efficiently, some conditions must be folllowed ->\n",
    "    O Grammar must be converted to Chomsky normal form (CNF) in which all productions must have \n",
    "    O Either, exactly two non-terminals on the RHS Or, 1 terminal symbol on the RHS \n",
    "\n",
    "-> It is a type of bottom-up parsing in which we store phrases formed from all substrings in a triangular table (chart) \n"
   ]
  },
  {
   "cell_type": "code",
   "execution_count": 387,
   "metadata": {},
   "outputs": [],
   "source": [
    "# This fuction is used to read the rules from file provided and save it in proper format and return it for futhur use\n",
    "\n",
    "def getGramerRules(filePath):\n",
    "    try:\n",
    "        grammer_text = open(filePath)\n",
    "    except: \n",
    "        print(\"some error in opening the rules file\")\n",
    "        exit()\n",
    "    grammer = []\n",
    "    # Loops over each line in the grammar file we were given to record the\n",
    "    # grammar rules.\n",
    "    for line in grammer_text.readlines():\n",
    "        rule = line.split('->')\n",
    "        if len(rule) != 2:\n",
    "            print(\"rules given in invalid format\")\n",
    "            exit()\n",
    "        rule[0] = rule[0].strip()\n",
    "        rule[1] = rule[1].strip()\n",
    "\n",
    "        # Makes sure the grammar is of the proper form.\n",
    "        # Right hand side needs to contain one or two elements.\n",
    "        # If two elements: neither can start with lower letter.\n",
    "        # If one element: can start with lower letter.\n",
    "        right_side = list(rule[1].split())\n",
    "        if (len(right_side) > 2) or (len(right_side) == 0):\n",
    "            print(\"some error in opening the rules file\")\n",
    "            exit()\n",
    "        elif len(right_side) == 2:\n",
    "            r = (rule[0],right_side[0],right_side[1])\n",
    "            if right_side[0] == right_side[0].lower() or right_side[1] == right_side[1].lower() or rule[0] == rule[0].lower():\n",
    "                print(\"Given grammer is not in CNF\")\n",
    "                exit()\n",
    "        elif len(right_side) == 1:\n",
    "            r = (rule[0],right_side[0])\n",
    "        # If we have seen a derivation before, we add it to the list.\n",
    "        if r  not in grammer:\n",
    "            grammer = grammer + [r]\n",
    "        # If we have not seen a derivation before we need to add it to\n",
    "        # the dictionary.\n",
    "    return grammer"
   ]
  },
  {
   "cell_type": "code",
   "execution_count": 388,
   "metadata": {},
   "outputs": [],
   "source": [
    "# after the obtaining the grammer rules, this function is used for the purpose of finding the entries to be filled in the table\n",
    "\n",
    "def create_CKY_table(grammerRules,sentence):\n",
    "    l = len(sentence)\n",
    "    # initiating table entries as a null value \n",
    "    x = [[(\"-\",)]*l]*l\n",
    "    a = 0\n",
    "    for i in range(l):\n",
    "        found = []\n",
    "        \n",
    "        # find entries for the diagonal entries\n",
    "        for rule in grammerRules:\n",
    "            if len(rule) == 2 and rule[1] == sentence[i] :\n",
    "                found = found + [rule[0]] \n",
    "        if i == 0:\n",
    "            x[i] = [tuple(found)] + [(\"-\",)]*(l-1)\n",
    "        else:\n",
    "            x[i] = x[i][:i] + [tuple(found)] + x[i+1:]\n",
    "    \n",
    "    \n",
    "    for i in range(1,l):   #col\n",
    "        for j in range(l):  #row\n",
    "            conversion = []\n",
    "            # to see all possibilities\n",
    "            for inter in range(i,j,-1):\n",
    "                # check in all the grammer rules\n",
    "                for rule in grammerRules:\n",
    "                    # check for all posiiv=bile combinatins of A and B\n",
    "                    for a in range(len(x[i][inter])):\n",
    "                        for b in range(len(x[j][i-inter])):\n",
    "                            if x[i][inter] !=  (\"-\",) and x[j][i-inter] !=  (\"-\",):\n",
    "                                if len(rule) == 3 and rule[1] == x[j][i-inter][b] and rule[2] == x[i][inter][a]:\n",
    "                                    conversion = conversion + [rule[0]] \n",
    "            # if converstion is posible or notr\n",
    "            if len(conversion) >0:\n",
    "                x[j][i] = tuple(conversion)\n",
    "    # return the table \n",
    "    return x\n",
    "    "
   ]
  },
  {
   "cell_type": "code",
   "execution_count": 389,
   "metadata": {},
   "outputs": [],
   "source": [
    "# print the table , output to be shown\n",
    "from prettytable import PrettyTable\n",
    "def printTable(table,sentence):\n",
    "    t = PrettyTable(sentence)\n",
    "    for i in table:\n",
    "        t.add_row(i)\n",
    "    print(t)"
   ]
  },
  {
   "cell_type": "code",
   "execution_count": 390,
   "metadata": {},
   "outputs": [],
   "source": [
    "def main(filePath,sentence):\n",
    "    # pre process the sentence\n",
    "    sentence = list(sentence.strip().split())\n",
    "    for i in range(len(sentence)):\n",
    "        sentence[i] = sentence[i].lower()\n",
    "        \n",
    "    # read the grammer rules form the file\n",
    "    grammerRules = getGramerRules(filePath)\n",
    "        \n",
    "    # find what to be filled in the table\n",
    "    table = create_CKY_table(grammerRules,sentence)\n",
    "    \n",
    "    #print the table formed\n",
    "    printTable(table,sentence)"
   ]
  },
  {
   "cell_type": "code",
   "execution_count": 391,
   "metadata": {},
   "outputs": [
    {
     "name": "stdout",
     "output_type": "stream",
     "text": [
      "The first row of the table signify the corresponding sentence.\n",
      "\n",
      "The following table is creatd when runned through CKY algorithm-->\n",
      "\n",
      "+--------+--------+--------------------------+\n",
      "|  cat   |   is   |         sleeping         |\n",
      "+--------+--------+--------------------------+\n",
      "| ('B',) | ('S',) |          ('S',)          |\n",
      "| ('-',) | ('C',) | [('-',), ('-',), ('-',)] |\n",
      "| ('-',) | ('-',) |          ('A',)          |\n",
      "+--------+--------+--------------------------+\n",
      "Note : ('-',) represents that there is no entry in that field\n"
     ]
    }
   ],
   "source": [
    "# takes input as file of path containg the grammer rules and the perticular sentece for which CKY is to be applied\n",
    "print(\"The first row of the table signify the corresponding sentence.\")\n",
    "print()\n",
    "print(\"The following table is creatd when runned through CKY algorithm-->\")\n",
    "print()\n",
    "# change the sentence to give here\n",
    "s = \"cat is sleeping\"\n",
    "main('gramer.txt',s)\n",
    "print(\"Note : ('-',) represents that there is no entry in that field\")"
   ]
  },
  {
   "cell_type": "code",
   "execution_count": null,
   "metadata": {},
   "outputs": [],
   "source": []
  }
 ],
 "metadata": {
  "kernelspec": {
   "display_name": "Python 3",
   "language": "python",
   "name": "python3"
  },
  "language_info": {
   "codemirror_mode": {
    "name": "ipython",
    "version": 3
   },
   "file_extension": ".py",
   "mimetype": "text/x-python",
   "name": "python",
   "nbconvert_exporter": "python",
   "pygments_lexer": "ipython3",
   "version": "3.6.5"
  }
 },
 "nbformat": 4,
 "nbformat_minor": 2
}
